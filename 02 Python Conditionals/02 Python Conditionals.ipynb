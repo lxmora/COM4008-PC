{
 "cells": [
  {
   "cell_type": "markdown",
   "id": "1eba3b72",
   "metadata": {},
   "source": [
    "# 02 Python Conditionals \n",
    "ND May 2023"
   ]
  },
  {
   "cell_type": "markdown",
   "id": "dd38cc99",
   "metadata": {},
   "source": [
    "#### This Jupyter Notebook contains exercises for you to extend the basics of Python to write blocks of code that are run once (or repetitively) when a condition is met. Attempt the following exercises, which slowly build in complexity. If you get stuck, check back to the <a href = \"https://www.youtube.com/watch?v=cNAdWBN9GA\">Python lecture recording on Conditionals here</a> or look through the <a href = \"https://www.python.org\">Python documentation here</a>."
   ]
  },
  {
   "cell_type": "markdown",
   "id": "6e5075e1",
   "metadata": {},
   "source": [
    "### Exercise 1:\n",
    "\n",
    "First ask the user to input their age and store this in a variable. Then output an appropriate message which confirms whether they are an adult or a child."
   ]
  },
  {
   "cell_type": "code",
   "execution_count": 4,
   "id": "1c93996b",
   "metadata": {
    "scrolled": false
   },
   "outputs": [
    {
     "name": "stdout",
     "output_type": "stream",
     "text": [
      "You are a child\n"
     ]
    }
   ],
   "source": [
    "age = int(input(\"Enter your age:\"))\n",
    "if age >= 18:\n",
    "    print(\"You are an adult\")\n",
    "else:\n",
    "    print(\"You are a child\")"
   ]
  },
  {
   "cell_type": "markdown",
   "id": "c8b02873",
   "metadata": {},
   "source": [
    "### Exercise 2\n",
    "Ask the user to enter two numbers and store these in variables respectively. Then display which one of the two numbers is greatest. \n",
    "\n",
    "Extension: Define this simple algorithm in a function that can be called to return the greater of the two numbers. Don't forget to call this function!"
   ]
  },
  {
   "cell_type": "code",
   "execution_count": 11,
   "id": "77aca078",
   "metadata": {},
   "outputs": [
    {
     "name": "stdout",
     "output_type": "stream",
     "text": [
      "1\n"
     ]
    }
   ],
   "source": [
    "num1 = input(\"Enter the first number:\")\n",
    "num2 = input(\"Enter the second number:\")\n",
    "'''\n",
    " if num1 >= num2:\n",
    "    print(num1)\n",
    "elif num1 <= num2:\n",
    "    print(num2)\n",
    "'''\n",
    "def greaterOf(val1, val2):\n",
    "    return val1 if val1 >= val2 else val2\n",
    "print(greaterOf(num1, num2))\n",
    "\n"
   ]
  },
  {
   "cell_type": "markdown",
   "id": "8689e876",
   "metadata": {},
   "source": [
    "### Exercise 3:\n",
    "Write a program that uses a loop to print the numbers 1-10 to the screen. Check that you know how to achieve this with both the 'while' loop and the 'for' loop so you know how the syntax differs. "
   ]
  },
  {
   "cell_type": "code",
   "execution_count": 17,
   "id": "46ea8406",
   "metadata": {},
   "outputs": [
    {
     "name": "stdout",
     "output_type": "stream",
     "text": [
      "1\n",
      "2\n",
      "3\n",
      "4\n",
      "5\n",
      "6\n",
      "7\n",
      "8\n",
      "9\n",
      "10\n"
     ]
    }
   ],
   "source": [
    "#print numbers 1-10 using the for loop\n",
    "for x in range(10):\n",
    "    print(x+1)"
   ]
  },
  {
   "cell_type": "code",
   "execution_count": 14,
   "id": "9ba8d87b",
   "metadata": {},
   "outputs": [
    {
     "name": "stdout",
     "output_type": "stream",
     "text": [
      "1\n",
      "2\n",
      "3\n",
      "4\n",
      "5\n",
      "6\n",
      "7\n",
      "8\n",
      "9\n",
      "10\n"
     ]
    }
   ],
   "source": [
    "#print numbers 1-10 using the while loop\n",
    "x=0\n",
    "while x != 10:\n",
    "    x+=1\n",
    "    print(x)"
   ]
  },
  {
   "cell_type": "markdown",
   "id": "9c60fde7",
   "metadata": {},
   "source": [
    "### Exercise 4:\n",
    "Write a program that will print only even numbers from a loop that repeats 10 times. \n",
    "\n",
    "Extension: Can you make a simple amendment to print only odd numbers?"
   ]
  },
  {
   "cell_type": "code",
   "execution_count": 23,
   "id": "0f03f2b6",
   "metadata": {},
   "outputs": [
    {
     "name": "stdout",
     "output_type": "stream",
     "text": [
      "even\n",
      "2\n",
      "4\n",
      "6\n",
      "8\n",
      "10\n",
      "\n",
      "odd\n",
      "1\n",
      "3\n",
      "5\n",
      "7\n",
      "9\n"
     ]
    }
   ],
   "source": [
    "print(\"even\")\n",
    "for x in range(10):\n",
    "    if (x+1)%2 == 0:\n",
    "        print(x+1)\n",
    "print(\"\\nodd\")\n",
    "for x in range(10):\n",
    "    if (x+1)%2 == 1:\n",
    "        print(x+1)\n"
   ]
  },
  {
   "cell_type": "markdown",
   "id": "17a23b32",
   "metadata": {},
   "source": [
    "### Exercise 5:\n",
    "Write a program that uses a loop to efficiently print the \"seven times multiplication table\". The output on screen should resemble the following: \n",
    "<p>\n",
    "1 x 7 = 7 <br>\n",
    "2 x 7 = 14 <br>\n",
    "3 x 7 = 21 <br>\n",
    "4 x 7 = 28 <br>\n",
    "5 x 7 = 35 <br>\n",
    "6 x 7 = 42 <br>\n",
    "7 x 7 = 49 <br>\n",
    "8 x 7 = 56 <br>\n",
    "9 x 7 = 63 <br>\n",
    "10 x 7 = 70 <br>\n",
    "11 x 7 = 77 <br>\n",
    "12 x 7 = 84 <br>\n",
    "</p>\n",
    "\n",
    "Extension: Can you write this so that any 'times table' can be generated from the number that a user enters."
   ]
  },
  {
   "cell_type": "code",
   "execution_count": 25,
   "id": "30ddf09e",
   "metadata": {},
   "outputs": [
    {
     "name": "stdout",
     "output_type": "stream",
     "text": [
      "1 x 7 = 7\n",
      "2 x 7 = 14\n",
      "3 x 7 = 21\n",
      "4 x 7 = 28\n",
      "5 x 7 = 35\n",
      "6 x 7 = 42\n",
      "7 x 7 = 49\n",
      "8 x 7 = 56\n",
      "9 x 7 = 63\n",
      "10 x 7 = 70\n",
      "11 x 7 = 77\n",
      "12 x 7 = 84\n"
     ]
    }
   ],
   "source": [
    "for x in range(1, 13):\n",
    "    print(x, \"x 7 =\", x*7)"
   ]
  },
  {
   "cell_type": "markdown",
   "id": "3ebccf84",
   "metadata": {},
   "source": [
    "### Exercise 6:\n",
    "Write a program that enables a student to enter a letter grade (A, B, C, D, E or F), then convert that to a university undergraduate classification (1st, 2:1, 2:2, 3rd, ordinary, fail).\n",
    "\n",
    "Extension 1: What happens if the user types in a lowercase letter? Does this affect the program? If so, how would you change the script?\n",
    "\n",
    "Extension 2: Can you place this conditional logic that converts grades to classifications in a function? Don't forget to call this function!"
   ]
  },
  {
   "cell_type": "code",
   "execution_count": 34,
   "id": "0cadfab5",
   "metadata": {},
   "outputs": [
    {
     "name": "stdout",
     "output_type": "stream",
     "text": [
      "Your Undergraduate Degree Classification is: Invalid Grade\n"
     ]
    }
   ],
   "source": [
    "#Which letter grading system to use is unclear, oridnary degree will be ignored as information suggests its on a uni-by-uni basis, the rest will use the system outlined following as the basis: https://erudera.com/united-kingdom/uk-grading-system/\n",
    "\n",
    "def convertGradeToClassification(grade):\n",
    "    grade=grade.lower()\n",
    "    if grade == \"a\":\n",
    "        return \"1st\"\n",
    "    if grade == \"b\":\n",
    "        return \"2:1\"\n",
    "    if grade == \"c\":\n",
    "        return \"2:2\"\n",
    "    if grade == \"d\":\n",
    "        return \"3rd\"\n",
    "    if grade == \"e\":\n",
    "        return \"fail\"\n",
    "    if grade == \"f\":\n",
    "        return \"fail\"\n",
    "    else:\n",
    "        return \"Error: Invalid Letter Grade\"\n",
    "\n",
    "print(\"Your Undergraduate Degree Classification is:\",convertGradeToClassification(input(\"Enter your Letter Grade:\")))"
   ]
  },
  {
   "cell_type": "markdown",
   "id": "ce4bbb2c",
   "metadata": {},
   "source": [
    "### Exercise 7: \n",
    "Write a new program that asks the user to enter an exam mark (0-100). Write conditional statements to print out the grade they would achieve from this mark.\n",
    "\n",
    "Extension 1: Also define this logic as a function 'convert_mark_to_grade'\n",
    "\n",
    "Extension 2: Furthermore, also call the 'convert_grade_to_classification' function defined previously. The user should be able to enter a single mark, which is then converted to a grade, which in turn is then converted to a degree classification."
   ]
  },
  {
   "cell_type": "code",
   "execution_count": 65,
   "id": "8678ebbd",
   "metadata": {
    "scrolled": true
   },
   "outputs": [
    {
     "name": "stdout",
     "output_type": "stream",
     "text": [
      "Invalid Letter Grade\n"
     ]
    }
   ],
   "source": [
    "def convertGradeToClassification(grade):\n",
    "    grade=grade.lower()\n",
    "    if grade == \"a\":\n",
    "        return \"1st\"\n",
    "    if grade == \"b\":\n",
    "        return \"2:1\"\n",
    "    if grade == \"c\":\n",
    "        return \"2:2\"\n",
    "    if grade == \"d\":\n",
    "        return \"3rd\"\n",
    "    if grade == \"e\":\n",
    "        return \"fail\"\n",
    "    if grade == \"f\":\n",
    "        return \"fail\"\n",
    "    else:\n",
    "        return \"Invalid Letter Grade\"\n",
    "    \n",
    "def convertMarkToGrade(mark):\n",
    "    if mark > 100:\n",
    "        return \"Mark cant be more than 100\"\n",
    "    if mark >= 70:\n",
    "        return \"A\"\n",
    "    if mark >= 60:\n",
    "        return \"B\"\n",
    "    if mark >= 50:\n",
    "        return \"C\"\n",
    "    if mark >= 40:\n",
    "        return \"D\"\n",
    "    if mark >= 30:\n",
    "        return \"E\"\n",
    "    if mark >= 0:\n",
    "        return \"F\"\n",
    "\n",
    "def convertMarkToClassification(mark):\n",
    "    return convertGradeToClassification(convertMarkToGrade(mark)) \n",
    "\n",
    "print(convertMarkToClassification(float(input(\"Enter your Mark:\"))))"
   ]
  },
  {
   "cell_type": "markdown",
   "id": "29e16034",
   "metadata": {},
   "source": [
    "### Exercise 8: \n",
    "Write a guessing game program in Python. The game should randomly assign a number between 1 and 100 to a variable (without the user knowing the selected number) each time the game is run. The user must then guess the number selected and should be guided by whether their guess is greater or less than the randomly chosen number. The program should record how many guess attempts it takes to correctly identify the number. \n"
   ]
  },
  {
   "cell_type": "code",
   "execution_count": 90,
   "id": "b5378255",
   "metadata": {},
   "outputs": [
    {
     "name": "stdout",
     "output_type": "stream",
     "text": [
      "The random number has been picked, make your 1st guess\n",
      "> 50\n",
      "Your guess is too high, try again\n",
      "> 25\n",
      "Your guess is too high, try again\n",
      "> 12\n",
      "Your guess is too high, try again\n",
      "> 6\n",
      "Your guess is too high, try again\n",
      "> 3\n",
      "3 is Correct\n",
      "You got it in 5 tries\n"
     ]
    }
   ],
   "source": [
    "# Start by checking that the code provided outputs random numbers between 1 and 100\n",
    "\n",
    "import random\n",
    "target = 0\n",
    "target = random.uniform(1, 100)\n",
    "target = int(target)\n",
    "\n",
    "# print(target) # Don't forget to comment this print statement when the game starts!\n",
    "\n",
    "# Code your solution here\n",
    "import time\n",
    "message = \"The random number has been picked, make your 1st guess\"\n",
    "solved = False\n",
    "count = 0\n",
    "while solved == False:\n",
    "    print(message)\n",
    "    guess = int(input(message))\n",
    "    print(\">\",guess)\n",
    "    if guess == target:\n",
    "        count += 1\n",
    "        solved = True\n",
    "        print(guess, \"is Correct\")\n",
    "    elif guess > target:\n",
    "        count += 1\n",
    "        message = \"Your guess is too high, try again\"\n",
    "    elif guess < target:\n",
    "        count += 1\n",
    "        message = \"Your guess is too low, try again\"\n",
    "print(\"You got it in\", count, \"tries\")\n"
   ]
  },
  {
   "cell_type": "markdown",
   "id": "07c657a6",
   "metadata": {},
   "source": [
    "### Exercise 9 (which extends Exercise 8 from 01 Python Basics):\n",
    "\n",
    "<b>Extend the previous exercise below to ask the user to first select which conversion they want to make. Either 'miles to feet' or 'feet to miles'. Once they have chosen, then run the appropriate code to make the selected conversion. You may wish to use functions to separate code.</b>\n",
    "\n",
    "Write a script that will convert miles to feet. First ask the user to enter a quantity of miles. Store this in an appropriate variable. Then convert and output (print) the number of feet to the screen. Test this for a number of inputs to check the conversion works correctly.\n",
    "\n",
    "For reference, there are 5280 feet in 1.0 mile. \n",
    "\n",
    "Also ask the user to enter the same number of feet and check this converts back to the original number of miles."
   ]
  },
  {
   "cell_type": "code",
   "execution_count": 105,
   "id": "b12c7cd7",
   "metadata": {},
   "outputs": [
    {
     "name": "stdout",
     "output_type": "stream",
     "text": [
      "121440 feet\n"
     ]
    }
   ],
   "source": [
    "def milesToFeet(miles):\n",
    "    return miles*5280\n",
    "\n",
    "def feetToMiles(feet):\n",
    "    return feet/5280\n",
    "\n",
    "unit = input(\"Are you converting to feet, or to miles (f/m)\")\n",
    "\n",
    "if unit == \"m\":\n",
    "    print(\"%.2f miles\" % feetToMiles(float(input(\"Enter distance in feet:\"))))\n",
    "    \n",
    "if unit == \"f\":\n",
    "    print(\"%.0f feet\" % milesToFeet(float(input(\"Enter distance in miles:\"))))\n",
    "\n",
    "else:\n",
    "    print(\"invalid unit, use \\'f\\' or \\'m\\' to select target units\")"
   ]
  },
  {
   "cell_type": "markdown",
   "id": "11077868",
   "metadata": {},
   "source": [
    "### Exercise 10:\n",
    "\n",
    "To extend the previous unit conversion exercise, now add a third unit (for example 'metres'). Amend your code to account for conversions between three (3) units. Consider whether there are efficiencies that can be made to prevent duplication across functions. \n",
    "\n",
    "Hint: You could create a single input function and output function. Then you may be able to merge all the conversions into one convert function.\n",
    "\n",
    "You can also add another 'code cell' to separate the function definitions and the function calls. This also helps to prevent one cell becoming too big!"
   ]
  },
  {
   "cell_type": "code",
   "execution_count": 126,
   "id": "ddf7677c",
   "metadata": {},
   "outputs": [
    {
     "name": "stdout",
     "output_type": "stream",
     "text": [
      "1. Miles\n",
      "2. Feet\n",
      "3. Metres\n",
      "1\n",
      "1. Miles\n",
      "2. Feet\n",
      "3. Metres\n",
      "3\n",
      "1 2 3\n"
     ]
    },
    {
     "ename": "Exception",
     "evalue": "Unit not defined",
     "output_type": "error",
     "traceback": [
      "\u001b[1;31m---------------------------------------------------------------------------\u001b[0m",
      "\u001b[1;31mException\u001b[0m                                 Traceback (most recent call last)",
      "Cell \u001b[1;32mIn[126], line 64\u001b[0m\n\u001b[0;32m     59\u001b[0m \u001b[38;5;250m    \u001b[39m\u001b[38;5;124;03m\"\"\" outputs the final result to the screen \"\"\"\u001b[39;00m\n\u001b[0;32m     60\u001b[0m     \u001b[38;5;28mprint\u001b[39m(from_dist, from_unit, \u001b[38;5;124m\"\u001b[39m\u001b[38;5;124mis\u001b[39m\u001b[38;5;124m\"\u001b[39m, to_dist, to_unit)\n\u001b[1;32m---> 64\u001b[0m \u001b[43mconvert_distance\u001b[49m\u001b[43m(\u001b[49m\u001b[43mget_from\u001b[49m\u001b[43m(\u001b[49m\u001b[43m)\u001b[49m\u001b[43m,\u001b[49m\u001b[43mget_distance\u001b[49m\u001b[43m(\u001b[49m\u001b[43m)\u001b[49m\u001b[43m,\u001b[49m\u001b[43mget_to\u001b[49m\u001b[43m(\u001b[49m\u001b[43m)\u001b[49m\u001b[43m)\u001b[49m\n\u001b[0;32m     65\u001b[0m output()\n",
      "Cell \u001b[1;32mIn[126], line 55\u001b[0m, in \u001b[0;36mconvert_distance\u001b[1;34m(from_unit, from_dist, to_unit)\u001b[0m\n\u001b[0;32m     52\u001b[0m     to_dist \u001b[38;5;241m=\u001b[39m from_dist \u001b[38;5;241m/\u001b[39m feet_to_metres\n\u001b[0;32m     54\u001b[0m \u001b[38;5;28;01melse\u001b[39;00m:\n\u001b[1;32m---> 55\u001b[0m     \u001b[38;5;28;01mraise\u001b[39;00m \u001b[38;5;167;01mException\u001b[39;00m(\u001b[38;5;124m\"\u001b[39m\u001b[38;5;124mUnit not defined\u001b[39m\u001b[38;5;124m\"\u001b[39m)\n",
      "\u001b[1;31mException\u001b[0m: Unit not defined"
     ]
    }
   ],
   "source": [
    "miles_to_feet = 5280\n",
    "miles_to_metres = 1609.44\n",
    "feet_to_metres = 0.3048\n",
    "from_unit = \"\"\n",
    "to_unit = \"\"\n",
    "from_dist = 0\n",
    "to_dist = 0\n",
    "unitMap={1:\"Miles\", 2:\"Feet\", 3:\"Metres\"}\n",
    "\n",
    "\n",
    "def display_menu():\n",
    "    print('1. Miles')\n",
    "    print('2. Feet')\n",
    "    print('3. Metres')\n",
    "\n",
    "def get_menu_choice(msg):\n",
    "    \"\"\" return the selected unit - this can be reused for 'from_unit' and 'to_unit' \"\"\"\n",
    "    display_menu()\n",
    "    selection = int(input(msg))\n",
    "    print(selection)\n",
    "    return selection\n",
    "    \n",
    "def get_from():\n",
    "    from_unit = int(get_menu_choice(\"Select from unit to convert from (1,2,3)\"))\n",
    "    return from_unit\n",
    "\n",
    "def get_to():\n",
    "    to_unit = int(get_menu_choice(\"Select from unit to convert to (1,2,3)\"))\n",
    "    return to_unit\n",
    "\n",
    "def get_distance():\n",
    "    from_dist = int(input(\"Enter distance to convert\")) \n",
    "    return from_dist\n",
    "\n",
    "def convert_distance(from_unit, from_dist, to_unit):\n",
    "    print(from_unit, from_dist, to_unit)\n",
    "    if from_unit == 1 and to_unit == 2:\n",
    "        to_dist = from_dist * miles_to_feet\n",
    "\n",
    "    if from_unit == 1 and to_unit == 3:\n",
    "        to_dist = from_dist * miles_to_metres\n",
    "    \n",
    "    if from_unit == 2 and to_unit == 1:\n",
    "        to_dist = from_dist / miles_to_feet\n",
    "\n",
    "    if from_unit == 2 and to_unit == 3:\n",
    "        to_dist = from_dist * feet_to_metres\n",
    "\n",
    "    if from_unit == 3 and to_unit == 1:\n",
    "        to_dist = from_dist / miles_to_metres\n",
    "\n",
    "    if from_unit == 3 and to_unit == 2:\n",
    "        to_dist = from_dist / feet_to_metres\n",
    "\n",
    "    else:\n",
    "        raise Exception(\"Unit not defined\")\n",
    "    # suggested that you add the other conversions here...\n",
    "\n",
    "def output():\n",
    "    \"\"\" outputs the final result to the screen \"\"\"\n",
    "    print(from_dist, from_unit, \"is\", to_dist, to_unit)\n",
    "\n",
    "\n",
    "\n",
    "convert_distance(get_from(),get_distance(),get_to())\n",
    "output()"
   ]
  },
  {
   "cell_type": "code",
   "execution_count": 3,
   "id": "029944ac",
   "metadata": {},
   "outputs": [
    {
     "name": "stdout",
     "output_type": "stream",
     "text": [
      "0 Miles is 0 Feet\n"
     ]
    }
   ],
   "source": [
    "\n",
    "# Sample output to get you started: \n",
    "\n",
    "from_unit = \"Miles\"\n",
    "to_unit = \"Feet\"\n",
    "from_dist = 0\n",
    "to_dist = 0\n",
    "\n",
    "output()"
   ]
  },
  {
   "cell_type": "code",
   "execution_count": null,
   "id": "8d4d6eca",
   "metadata": {},
   "outputs": [],
   "source": []
  }
 ],
 "metadata": {
  "kernelspec": {
   "display_name": "Python 3 (ipykernel)",
   "language": "python",
   "name": "python3"
  },
  "language_info": {
   "codemirror_mode": {
    "name": "ipython",
    "version": 3
   },
   "file_extension": ".py",
   "mimetype": "text/x-python",
   "name": "python",
   "nbconvert_exporter": "python",
   "pygments_lexer": "ipython3",
   "version": "3.11.7"
  }
 },
 "nbformat": 4,
 "nbformat_minor": 5
}
