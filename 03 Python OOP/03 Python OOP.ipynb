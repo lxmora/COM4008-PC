{
  "cells": [
    {
      "cell_type": "markdown",
      "id": "1eba3b72",
      "metadata": {
        "id": "1eba3b72"
      },
      "source": [
        "# 03 Python Object Oriented Programming\n",
        "ND August 2023"
      ]
    },
    {
      "cell_type": "markdown",
      "id": "dd38cc99",
      "metadata": {
        "id": "dd38cc99"
      },
      "source": [
        "#### This Jupyter Notebook contains exercises for you to organise attributes and functions related to an entity into classes. You can then instantiate these classes (create objects) and assign unique values for these attributes. Attempt the following exercises, which slowly build in complexity. If you get stuck, check back to the <a href = \"https://youtu.be/RZeZ1Ig0T_E?si=RJ0DtJbsCDrJw8zv\"> Python lecture recording on Object Orientation here</a> or look through the <a href = \"https://www.python.org\">Python documentation here</a>."
      ]
    },
    {
      "cell_type": "markdown",
      "id": "6e5075e1",
      "metadata": {
        "id": "6e5075e1"
      },
      "source": [
        "### Exercise 1:\n",
        "\n",
        "First define a Student class with an initialisation function  ``` __init__() ``` (otherwise known as a constructor) that prints out a message (e.g. \"Student constructor called\"). \n",
        "\n",
        "Then call this constructor (in other cell or underneath the class definition) to check that the right function is being called. Hint: rememember that the constructor function has the same name as the class. \n",
        "\n",
        "<b>Question:</b> If you see this output:  ``` <__main__.Student at 0x10422b3d0> ``` What does it refer to?"
      ]
    },
    {
      "cell_type": "code",
      "execution_count": 5,
      "id": "1c93996b",
      "metadata": {
        "id": "1c93996b",
        "outputId": "fc2acb5f-64bd-48f2-9659-ddbc761958a4",
        "scrolled": false
      },
      "outputs": [
        {
          "name": "stdout",
          "output_type": "stream",
          "text": [
            "Student Constructor Called\n",
            "<__main__.Student object at 0x0000024EA40DAA50>\n"
          ]
        }
      ],
      "source": [
        "# Write your solution here\n",
        "class Student():\n",
        "\n",
        "    def __init__(self):\n",
        "        print(\"Student Constructor Called\")\n",
        "x = Student()\n",
        "print(x)\n",
        "\n",
        "# The output <__main__.Student object at 0x0000024EA40D3E50> tells us that the object is of the Class student, as defined in the main module, stored at the specified memory address\n"
      ]
    },
    {
      "cell_type": "markdown",
      "id": "f62b3876",
      "metadata": {
        "id": "f62b3876"
      },
      "source": [
        "### Exercise 2\n",
        "Now modify the parameter list of the ```__init__()``` constructor, and add variable names for the student's name and id. The values passed in as parameters will need to be stored in attributes of the self reference so they can be retreived. \n",
        "\n",
        "When you next call the constructor, you will have to supply values for these variables/attributes (name and id) in the paretheses of the constructor (values separated by a comma , ).\n"
      ]
    },
    {
      "cell_type": "code",
      "execution_count": 6,
      "id": "b9e65ba7",
      "metadata": {
        "id": "b9e65ba7",
        "outputId": "efd8e87b-3df2-4d76-e08c-06eefe519d7d"
      },
      "outputs": [
        {
          "name": "stdout",
          "output_type": "stream",
          "text": [
            "Student Constructor Called\n",
            "logan 22318953\n"
          ]
        }
      ],
      "source": [
        "# Write your solution here\n",
        "class Student():\n",
        "    def __init__(self, name, id):\n",
        "        print(\"Student Constructor Called\")\n",
        "        self.name = name\n",
        "        self.id = id\n",
        "\n",
        "x = Student(\"logan\", 22318953)"
      ]
    },
    {
      "cell_type": "markdown",
      "id": "82b6c407",
      "metadata": {
        "id": "82b6c407"
      },
      "source": [
        "### Exercise 3:\n",
        "Now provide an object name for the reference that is returned from calling the constructor (self), and which you see you output so far. In this case, as the context is students, use your first name as the name of the object.\n",
        "\n",
        "As the attributes of self are public, you can refer to them directly. Print the name and id values which you assigned to the object (by passing to the constructor), through the name of the object (your firstname that you gave to the object)."
      ]
    },
    {
      "cell_type": "code",
      "execution_count": 7,
      "id": "d786193b",
      "metadata": {
        "id": "d786193b",
        "outputId": "3e3128f6-0046-4064-c8af-e19e9f32bd99"
      },
      "outputs": [
        {
          "name": "stdout",
          "output_type": "stream",
          "text": [
            "logan 22318953\n"
          ]
        }
      ],
      "source": [
        "# Write your solution here\n",
        "\n",
        "print(x.name, x.id)"
      ]
    },
    {
      "cell_type": "markdown",
      "id": "fbe9071a",
      "metadata": {
        "id": "fbe9071a"
      },
      "source": [
        "### Exercise 4:\n",
        "Now reuse the same instructions in Exercise 3, to create two new objects which have unique names and id values. Print their details to the screen again (remember that each value is scoped to an object - make sure you refer to the right one!).\n",
        "\n",
        "(This step should illustrate the importance of defining a class structure that can be instantiated many times as objects)."
      ]
    },
    {
      "cell_type": "code",
      "execution_count": 4,
      "id": "2097420a",
      "metadata": {
        "id": "2097420a",
        "outputId": "63566834-43e9-40b2-9720-d7cb20961a41"
      },
      "outputs": [
        {
          "name": "stdout",
          "output_type": "stream",
          "text": [
            "Student Constructor Called\n",
            "Student Constructor Called\n",
            "Alice 22123456\n",
            "Bob 22654321\n"
          ]
        }
      ],
      "source": [
        "# Write your solution here\n",
        "class Student():\n",
        "    def __init__(self, name, id):\n",
        "        print(\"Student Constructor Called\")\n",
        "        self.name = name\n",
        "        self.id = id\n",
        "\n",
        "y = Student(\"Alice\", 22123456)\n",
        "z = Student(\"Bob\", 22654321)\n",
        "\n",
        "print(y.name, y.id)\n",
        "print(z.name, z.id)\n"
      ]
    },
    {
      "cell_type": "markdown",
      "id": "564b04d8",
      "metadata": {
        "id": "564b04d8"
      },
      "source": [
        "### Exercise 5:\n",
        "For the sake of efficiency, let's define a print function in the Student class that will output the name and id values of self. Feel free to format how you would like. \n",
        "\n",
        "Check this works by calling the Student's print function. <b> You'll need to create new objects though </b>"
      ]
    },
    {
      "cell_type": "code",
      "execution_count": 8,
      "id": "e921a81c",
      "metadata": {
        "id": "e921a81c",
        "outputId": "53918f7e-b710-4784-b217-eaff27019afa"
      },
      "outputs": [
        {
          "name": "stdout",
          "output_type": "stream",
          "text": [
            "Student Constructor Called\n",
            "name : Logan , id : 22318953\n"
          ]
        }
      ],
      "source": [
        "# Write your solution here\n",
        "\n",
        "class Student():\n",
        "    def __init__(self, name, id):\n",
        "        print(\"Student Constructor Called\")\n",
        "        self.name = name\n",
        "        self.id = id\n",
        "\n",
        "    def print(self):\n",
        "        print(\"name :\",self.name,\",\",\"id :\",self.id)\n",
        "\n",
        "x = Student(\"Logan\", 22318953)\n",
        "\n",
        "x.print()"
      ]
    },
    {
      "cell_type": "markdown",
      "id": "3ebccf84",
      "metadata": {
        "id": "3ebccf84"
      },
      "source": [
        "### Exercise 6:\n",
        "Now that you've managed to create one class for Students, define a Course class.\n",
        "\n",
        "This Course class should define a constructor that takes the course's name and code as arguments. Also define a print function that will output these values to screen for any object of the Course class.\n",
        "\n",
        "Test this by instantiating the class, creating an object for the course you are enrolled on here at BNU. Call the constructor and pass the course name and code. Then call the Course's print method on your object to see the details on the screen. \n",
        "\n",
        "FYI: You can find the official BNU Course Codes in the Programme Specifications <a href = \"https://www.bucks.ac.uk/search/courses?query=computing\"> which are linked under the course pages on our website </a>\n"
      ]
    },
    {
      "cell_type": "code",
      "execution_count": 9,
      "id": "0cadfab5",
      "metadata": {
        "id": "0cadfab5",
        "outputId": "a97500bd-0e84-477b-b939-33555d4a4c4d"
      },
      "outputs": [
        {
          "name": "stdout",
          "output_type": "stream",
          "text": [
            "Course Name : BSc (Hons) Computer Science\n",
            "Course Code : CS01\n"
          ]
        }
      ],
      "source": [
        "# Write your solution here\n",
        "\n",
        "class Course():\n",
        "    def __init__(self, courseName, courseCode):\n",
        "        self.courseName = courseName\n",
        "        self.courseCode = courseCode\n",
        "    \n",
        "    def print(self):\n",
        "        print(\"Course Name :\", self.courseName)\n",
        "        print(\"Course Code :\", self.courseCode)\n",
        "\n",
        "course = Course(\"BSc (Hons) Computer Science\", \"CS01\")\n",
        "\n",
        "course.print()"
      ]
    },
    {
      "cell_type": "markdown",
      "id": "7b1efbdb",
      "metadata": {
        "id": "7b1efbdb"
      },
      "source": [
        "### Exercise 7:\n",
        "\n",
        "Now add an attribute to the Student class, which will resemble the course object that a particular student is enroled one. Modify the constructor to accept an object of the Course class. Also amend the print function to call the Course's function defined previously (saving you having to write it again!).\n"
      ]
    },
    {
      "cell_type": "code",
      "execution_count": 13,
      "id": "08a6006b",
      "metadata": {},
      "outputs": [
        {
          "name": "stdout",
          "output_type": "stream",
          "text": [
            "Student Constructor Called\n",
            "Name : Logan\n",
            "ID : 22318953\n",
            "Course Name : BSc (Hons) Computer Science\n",
            "Course Code : CS01\n"
          ]
        }
      ],
      "source": [
        "# Write your solution here\n",
        "class Course():\n",
        "    def __init__(self, courseName, courseCode):\n",
        "        self.courseName = courseName\n",
        "        self.courseCode = courseCode\n",
        "    \n",
        "    def print(self):\n",
        "        print(\"Course Name :\", self.courseName)\n",
        "        print(\"Course Code :\", self.courseCode)\n",
        "\n",
        "class Student():\n",
        "    def __init__(self, name, id, course):\n",
        "        print(\"Student Constructor Called\")\n",
        "        self.name = name\n",
        "        self.id = id\n",
        "        self.course = course\n",
        "\n",
        "    def print(self):\n",
        "        print(\"Name :\",self.name+\"\\nID :\",self.id)\n",
        "        self.course.print()\n",
        "\n",
        "student = Student(\"Logan\", 22318953, Course(\"BSc (Hons) Computer Science\", \"CS01\"))\n",
        "\n",
        "student.print()"
      ]
    },
    {
      "cell_type": "markdown",
      "id": "1c4a232a",
      "metadata": {
        "id": "1c4a232a"
      },
      "source": [
        "### Exercise 8 (Which reuses the functions from Exercise 6 and 7 in 02 Python Selection and Iteration):\n",
        "\n",
        "Now add an appropriate variable to the Student class, which will store each student's overall mark for their course. \n",
        "Rather than defining the mark at compile time, ask a user to enter a mark. \n",
        "\n",
        "This concept can be expanded later for modules (each course has modules, and each module has its own mark), but for this exercise let's work with one overall mark for the student's course. \n",
        "\n",
        "Then amend the print function of the Student class to print their mark (for the course), in addition to printing the details of the course they are enrolled on.\n",
        "\n",
        "\n",
        "Extension: you could reuse the functions from the previous notebook for converting the mark to a grade, and the grade to a university classification. Consider whether could define these functions in one of your two classes (Student or Course) - which is a better fit for the logic?"
      ]
    },
    {
      "cell_type": "code",
      "execution_count": null,
      "id": "f2120fbd",
      "metadata": {},
      "outputs": [],
      "source": [
        "# Write your solution here. Also integrate the functions below as you see fit."
      ]
    },
    {
      "cell_type": "code",
      "execution_count": 58,
      "id": "71adb574",
      "metadata": {
        "id": "71adb574",
        "outputId": "caf99270-db1e-4717-b546-0828602acf6a"
      },
      "outputs": [],
      "source": [
        "''' Function from Python 02 '''\n",
        "def convert_mark_to_grade():\n",
        "    if mark < 0 or mark > 100:\n",
        "        return 'invalid mark'\n",
        "    elif mark < 40:\n",
        "        return 'F'\n",
        "    elif mark < 50:\n",
        "        return 'D'\n",
        "    elif mark < 60:\n",
        "        return 'C'\n",
        "    elif mark < 70:\n",
        "        return 'B'\n",
        "    else:\n",
        "        return 'A'"
      ]
    },
    {
      "cell_type": "code",
      "execution_count": 60,
      "id": "561092b7",
      "metadata": {},
      "outputs": [],
      "source": [
        "''' Function from Python 02 '''\n",
        "def convert_grade_to_classification():\n",
        "    if grade == 'A':\n",
        "        return '1st class'\n",
        "    elif grade == 'B':\n",
        "        return '2:1'\n",
        "    elif grade == 'C':\n",
        "        return '2:2'\n",
        "    elif grade == 'D':\n",
        "        return '3rd'\n",
        "    elif grade == 'E':\n",
        "        return 'ordinary'\n",
        "    else:\n",
        "        return 'fail'"
      ]
    },
    {
      "cell_type": "markdown",
      "id": "07c657a6",
      "metadata": {
        "id": "07c657a6"
      },
      "source": [
        "### Exercise 9\n",
        "\n",
        "In preparation for further work (and one final practice of writing classes and instantiating objects), write a Module class where the constructor will store the module name and module code. Also create a print function which will output the relevant values for an object of this class. \n",
        "\n",
        "Call the constructor and create a module object (e.g. COM4008 Programming Concepts). \n",
        "\n",
        "Extension: Link the Course and Module class so that students on a course, also take a module. To keep it simple, write a function in the Course class that enables module objects to be added (e.g. ``` add_module() ``` ) to an attribute of a course object. "
      ]
    },
    {
      "cell_type": "code",
      "execution_count": null,
      "id": "917a0a3f",
      "metadata": {
        "id": "917a0a3f",
        "outputId": "936088ec-1292-41d1-cf52-7702569c3122"
      },
      "outputs": [],
      "source": [
        "# Write your solution here\n",
        "\n",
        "class Module():\n",
        "\n",
        "    def __init__(self,name,code):\n",
        "        self.moduleName=name\n",
        "        self.moduleCode=code\n",
        "\n",
        "    def print(self):\n",
        "        print(\"Course Name:\",self.moduleName,\"\\n\"+\"Course Code:\", self.moduleCodeode)\n",
        "\n",
        "class Course():\n",
        "    def __init__(self, courseName, courseCode):\n",
        "        self.courseName = courseName\n",
        "        self.courseCode = courseCode\n",
        "        self.modules = {}\n",
        "    \n",
        "    def print(self):\n",
        "        print(\"Course Name :\", self.courseName)\n",
        "        print(\"Course Code :\", self.courseCode)\n",
        "\n",
        "    def addModule(self, module):\n",
        "        self.modules[module.moduleCode]=module\n",
        "        \n",
        "\n",
        "class Student():\n",
        "    def __init__(self, name, id, course):\n",
        "        print(\"Student Constructor Called\")\n",
        "        self.name = name\n",
        "        self.id = id\n",
        "        self.course = course\n",
        "\n",
        "    def print(self):\n",
        "        print(\"Name :\",self.name+\"\\nID :\",self.id)\n",
        "        self.course.print()\n",
        "\n",
        "student = Student(\"Logan\", 22318953, Course(\"BSc (Hons) Computer Science\", \"CS01\").addModule(Module(\"Programming Concepts\",\"COM4008\")))\n",
        "\n"
      ]
    },
    {
      "cell_type": "markdown",
      "id": "11077868",
      "metadata": {
        "id": "11077868"
      },
      "source": [
        "### Exercise 10 (Extensions on this example):\n",
        "\n",
        "If you've successfully managed to create the Student, Course, Module classes by navigating the previous exercises. Why not continue to develop this example. \n",
        "\n",
        "You could:\n",
        "- Ahead of the next Python class (04), look into Python lists. You could create a list of students that take one module, and a list of modules that are associated with one course.  \n",
        "- Create statistics: average mark across one student's modules. And/or average mark across a cohort of students for one module.\n",
        "- Save the code for each Class as a separate .py file (rather than ipynb file). This would allow you to expand upon the code for each class (Student, Course, Module etc). You could also then have a dedicated main file that manages the program. "
      ]
    },
    {
      "cell_type": "code",
      "execution_count": 17,
      "id": "ddf7677c",
      "metadata": {
        "id": "ddf7677c"
      },
      "outputs": [
        {
          "name": "stdout",
          "output_type": "stream",
          "text": [
            "No Focus\n"
          ]
        },
        {
          "ename": "ValueError",
          "evalue": "invalid literal for int() with base 10: 'd'",
          "output_type": "error",
          "traceback": [
            "\u001b[1;31m---------------------------------------------------------------------------\u001b[0m",
            "\u001b[1;31mValueError\u001b[0m                                Traceback (most recent call last)",
            "Cell \u001b[1;32mIn[17], line 203\u001b[0m\n\u001b[0;32m    201\u001b[0m \u001b[38;5;28;01mmatch\u001b[39;00m option:\n\u001b[0;32m    202\u001b[0m     \u001b[38;5;28;01mcase\u001b[39;00m \u001b[38;5;241m1\u001b[39m:\n\u001b[1;32m--> 203\u001b[0m         \u001b[43mnav\u001b[49m\u001b[38;5;241;43m.\u001b[39;49m\u001b[43mchangeFocus\u001b[49m\u001b[43m(\u001b[49m\u001b[43m)\u001b[49m\n\u001b[0;32m    204\u001b[0m     \u001b[38;5;28;01mcase\u001b[39;00m \u001b[38;5;241m2\u001b[39m:\n\u001b[0;32m    205\u001b[0m         nav\u001b[38;5;241m.\u001b[39maddAttribute()\n",
            "Cell \u001b[1;32mIn[17], line 116\u001b[0m, in \u001b[0;36mNavigator.changeFocus\u001b[1;34m(self)\u001b[0m\n\u001b[0;32m    115\u001b[0m \u001b[38;5;28;01mdef\u001b[39;00m \u001b[38;5;21mchangeFocus\u001b[39m(\u001b[38;5;28mself\u001b[39m):\n\u001b[1;32m--> 116\u001b[0m     option\u001b[38;5;241m=\u001b[39m\u001b[38;5;28;43mint\u001b[39;49m\u001b[43m(\u001b[49m\u001b[38;5;28;43minput\u001b[39;49m\u001b[43m(\u001b[49m\u001b[38;5;124;43m\"\u001b[39;49m\u001b[38;5;124;43mChange focus to:\u001b[39;49m\u001b[38;5;130;43;01m\\n\u001b[39;49;00m\u001b[38;5;124;43m1. Person\u001b[39;49m\u001b[38;5;130;43;01m\\n\u001b[39;49;00m\u001b[38;5;124;43m2. Module\u001b[39;49m\u001b[38;5;130;43;01m\\n\u001b[39;49;00m\u001b[38;5;124;43m3. Course\u001b[39;49m\u001b[38;5;130;43;01m\\n\u001b[39;49;00m\u001b[38;5;124;43m4. New Object\u001b[39;49m\u001b[38;5;124;43m\"\u001b[39;49m\u001b[43m)\u001b[49m\u001b[43m)\u001b[49m\n\u001b[0;32m    117\u001b[0m     \u001b[38;5;28;01mif\u001b[39;00m option \u001b[38;5;241m!=\u001b[39m \u001b[38;5;241m4\u001b[39m:\n\u001b[0;32m    118\u001b[0m         code\u001b[38;5;241m=\u001b[39m\u001b[38;5;28minput\u001b[39m(\u001b[38;5;124m\"\u001b[39m\u001b[38;5;124mEnter the Code/ID:\u001b[39m\u001b[38;5;124m\"\u001b[39m)\n",
            "\u001b[1;31mValueError\u001b[0m: invalid literal for int() with base 10: 'd'"
          ]
        }
      ],
      "source": [
        "# Write your solution here\n",
        "class Course():\n",
        "    def __init__(self, courseName, courseCode):\n",
        "        self.courseName = courseName\n",
        "        self.courseCode = courseCode\n",
        "        self.modules = {}\n",
        "        self.students = {}\n",
        "    \n",
        "    def print(self):\n",
        "        print(\"Course Name :\", self.courseName)\n",
        "        print(\"Course Code :\", self.courseCode)\n",
        "\n",
        "    def addModule(self, module):\n",
        "        module.courses[self.courseCode]=self\n",
        "        self.modules[module.moduleCode]=module\n",
        "    \n",
        "    def addStudent(self, student):\n",
        "        student.course=self\n",
        "        self.students[student.id]=student\n",
        "\n",
        "class Module():\n",
        "    def __init__(self,name,code):\n",
        "        self.moduleName=name\n",
        "        self.moduleCode=code\n",
        "        self.lecturers={}\n",
        "        self.students={}\n",
        "        self.courses={}\n",
        "\n",
        "    def print(self):\n",
        "        print(\"Course Name:\",self.moduleName,\"\\n\"+\"Course Code:\", self.moduleCodeode)\n",
        "    \n",
        "    def addStudent(self, student):\n",
        "        student.modules[self.moduleCode]=self\n",
        "        self.students[student.id]=student\n",
        "\n",
        "    def addCourse(self, course):\n",
        "        course.modules[self.moduleCode]=self\n",
        "        self.courses[course.moduleCode]=course\n",
        "\n",
        "    def addLecturer(self, lecturer):\n",
        "        lecturer.modules[self.moduleCode]=self\n",
        "        self.lecturers[lecturer.id]=lecturer\n",
        "\n",
        "class Person():\n",
        "    def __init__(self,name,id):\n",
        "        self.name = name\n",
        "        self.id = id\n",
        "\n",
        "    def print(self):\n",
        "        print(\"Name :\",self.name+\"\\nID :\",self.id)\n",
        "        self.course.print()\n",
        "\n",
        "class Student(Person):\n",
        "    def __init__(self, name, id, course=None):\n",
        "        super().__init__(name, id)\n",
        "        self.course = course\n",
        "        self.modules = {}\n",
        "        self.marks= {}\n",
        "\n",
        "    def addMarks(self, moduleCode, mark):\n",
        "        self.marks[moduleCode]=mark\n",
        "\n",
        "    def addModule(self, module):\n",
        "        module.students[self.id]=self\n",
        "        self.modules[module.id]=module\n",
        "\n",
        "    def addCourse(self, course):\n",
        "        self.course=course\n",
        "\n",
        "class Lecturer(Person):\n",
        "    def __init__(self, name, id):\n",
        "        super().__init__(name, id)\n",
        "        self.modules = {}\n",
        "    \n",
        "    def addModule(self, module):\n",
        "        module.lecturers[self.id]=self\n",
        "        self.modules[module.id]=module\n",
        "\n",
        "class Navigator():\n",
        "    def __init__(self):\n",
        "        self.currentFocus = None\n",
        "        self.people = {}\n",
        "        self.courses = {}\n",
        "        self.modules = {}\n",
        "\n",
        "    def displayAttributes(self):\n",
        "        if type(self.currentFocus) == Course:\n",
        "            print(self.currentFocus.courseName)\n",
        "            print(self.currentFocus.courseCode)\n",
        "            print(self.currentFocus.modules.keys())\n",
        "            print(self.currentFocus.students.keys())\n",
        "        \n",
        "        elif type(self.currentFocus) == Module:\n",
        "            print(self.currentFocus.moduleName)\n",
        "            print(self.currentFocus.moduleCode)\n",
        "            print(self.currentFocus.courses.keys())\n",
        "            print(self.currentFocus.students.keys())\n",
        "            print(self.currentFocus.lecturers.keys())\n",
        "\n",
        "        elif type(self.currentFocus) == Student:\n",
        "            print(self.currentFocus.name)\n",
        "            print(self.currentFocus.id)\n",
        "            print(self.currentFocus.course)\n",
        "            print(self.currentFocus.modules.keys())\n",
        "            print(self.currentFocus.marks)\n",
        "\n",
        "        elif type(self.currentFocus) == Lecturer:\n",
        "            print(self.currentFocus.name)\n",
        "            print(self.currentFocus.id)\n",
        "            print(self.currentFocus.modules.keys())\n",
        "\n",
        "        else:\n",
        "            print(\"No Focus\")\n",
        "\n",
        "    def changeFocus(self):\n",
        "        option=int(input(\"Change focus to:\\n1. Person\\n2. Module\\n3. Course\\n4. New Object\"))\n",
        "        if option != 4:\n",
        "            code=input(\"Enter the Code/ID:\")\n",
        "        match option:\n",
        "            case 1:\n",
        "                self.currentFocus=self.people[code]\n",
        "            case 2:\n",
        "                self.currentFocus=self.modules[code]\n",
        "            case 3:\n",
        "                self.currentFocus=self.courses[code]\n",
        "            case 4:\n",
        "                self.curretFocus=self.createObject()\n",
        "\n",
        "    def addAttribute(self):\n",
        "        if type(self.currentFocus) == Course:\n",
        "            option=int(input(\"Add Attribute:\\n1. module\\n2.student\"))\n",
        "            match option:\n",
        "                case 1:\n",
        "                    code=input(\"Enter the Module Code:\")\n",
        "                    self.currentFocus.addModule(self.modules[code])\n",
        "                case 2:\n",
        "                    code=input(\"Enter the Student ID:\")\n",
        "                    self.currentFocus.addStudent(self.people[code])\n",
        "        \n",
        "        if type(self.currentFocus) == Module:\n",
        "            option=int(input(\"Add Attribute:\\n1. course\\n2.student\\n3. lecturer\"))\n",
        "            match option:\n",
        "                case 1:\n",
        "                    code=input(\"Enter the Course Code:\")\n",
        "                    self.currentFocus.addCourse(self.courses[code])\n",
        "                case 2:\n",
        "                    code=input(\"Enter the Student ID:\")\n",
        "                    self.currentFocus.addStudent(self.people[code])\n",
        "                case 3:\n",
        "                    code=input(\"Enter the Lecturer ID:\")\n",
        "                    self.currentFocus.addLecturer(self.people[code])\n",
        "\n",
        "        if type(self.currentFocus) == Student:\n",
        "            option=int(input(\"Add Attribute:\\n1. course \\n2. module\\n3. Mark\"))\n",
        "            match option:\n",
        "                case 1:\n",
        "                    code=input(\"Enter the Course Code:\")\n",
        "                    self.currentFocus.addCourse(self.courses[code])\n",
        "                case 2:\n",
        "                    code=input(\"Enter the Module Code:\")\n",
        "                    self.currentFocus.addModule(self.modules[code])\n",
        "                case 3:\n",
        "                    code=input(\"Enter the Course Code:\")\n",
        "                    mark=input(\"Enter Mark Earned:\")\n",
        "                    self.currentFocus.addMarks(self.courses[code],mark)\n",
        "\n",
        "        if type(self.currentFocus) == Lecturer:\n",
        "            option=int(input(\"Add Attribute:\\n1. module\"))\n",
        "            match option:\n",
        "                case 1:\n",
        "                    code=input(\"Enter the Module Code:\")\n",
        "                    self.currentFocus.addModule(self.modules[code])\n",
        "\n",
        "    def createObject(self):\n",
        "        option=int(input(\"New Object:\\n1. Course\\n2. Module\\n3. Student\\n4. Lecturer\"))\n",
        "        name=input(\"Enter the Name:\")\n",
        "        code=input(\"Enter the Code/ID:\")\n",
        "        match option:\n",
        "            case 1:\n",
        "                course=Course(name,code)\n",
        "                self.courses[course.courseCode]=course\n",
        "                return course\n",
        "            case 2:\n",
        "                module=Module(name,code)\n",
        "                self.modules[module.moduleCode]=module\n",
        "                return module\n",
        "            case 3:\n",
        "                student=Student(name,code)\n",
        "                self.people[student.id]=student\n",
        "                return student\n",
        "            case 4:\n",
        "                lecturer=Lecturer(name,code)\n",
        "                self.people[lecturer.id]=lecturer\n",
        "                return lecturer\n",
        "            \n",
        "nav = Navigator()\n",
        "while True:\n",
        "    try:\n",
        "        nav.displayAttributes()\n",
        "        option=int(input(\"1. Change Focus\\n2. Add Attribute\"))\n",
        "        match option:\n",
        "            case 1:\n",
        "                nav.changeFocus()\n",
        "            case 2:\n",
        "                nav.addAttribute()\n",
        "    finally:\n",
        "        pass\n",
        "\n",
        "\n",
        "\n",
        "        \n",
        "\n",
        "\n",
        "\n",
        "'''\n",
        "c = Course(\"BSc (Hons) Computer Science\", \"CS01\")\n",
        "c.addModule(Module(\"Programming Concepts\",\"COM4008\"))\n",
        "m = c.modules[\"COM4008\"]\n",
        "m.addStudent(Student(\"Logan Morazain\",22318953))\n",
        "s = m.students[22318953]\n",
        "c.addStudent(s)\n",
        "c.addModule(Module(\"Computer Architecture\",\"COM4009\"))\n",
        "m = c.modules[\"COM4009\"]\n",
        "m.addStudent(s)\n",
        "m = c.modules[\"COM4008\"]\n",
        "'''"
      ]
    }
  ],
  "metadata": {
    "colab": {
      "provenance": []
    },
    "kernelspec": {
      "display_name": "Python 3 (ipykernel)",
      "language": "python",
      "name": "python3"
    },
    "language_info": {
      "codemirror_mode": {
        "name": "ipython",
        "version": 3
      },
      "file_extension": ".py",
      "mimetype": "text/x-python",
      "name": "python",
      "nbconvert_exporter": "python",
      "pygments_lexer": "ipython3",
      "version": "3.11.9"
    }
  },
  "nbformat": 4,
  "nbformat_minor": 5
}
